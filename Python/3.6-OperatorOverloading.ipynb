{
 "cells": [
  {
   "cell_type": "markdown",
   "metadata": {},
   "source": [
    "Operator overloading allows us to define the behaviour of operators (+,-,*,etc.) for custom objects. We achieve this by overriding specific magic methods in our class."
   ]
  },
  {
   "cell_type": "code",
   "execution_count": 2,
   "metadata": {},
   "outputs": [
    {
     "data": {
      "text/plain": [
       "'\\n__add__(self, other) : Addition of two objects\\n__sub__(self, other) : Subtraction of two objects\\n__mul__(self, other) : Multiplication of two objects\\n__truediv__(self, other) : Division of two objects\\n__eq__(self, other) : Comparison of two objects\\n__lt__(self, other) : Less than comparison\\n__gt__(self, other) : Greater than comparison\\n'"
      ]
     },
     "execution_count": 2,
     "metadata": {},
     "output_type": "execute_result"
    }
   ],
   "source": [
    "### Common Operator Overloading Methods\n",
    "'''\n",
    "__add__(self, other) : Addition of two objects\n",
    "__sub__(self, other) : Subtraction of two objects\n",
    "__mul__(self, other) : Multiplication of two objects\n",
    "__truediv__(self, other) : Division of two objects\n",
    "__eq__(self, other) : Comparison of two objects\n",
    "__lt__(self, other) : Less than comparison\n",
    "__gt__(self, other) : Greater than comparison\n",
    "'''"
   ]
  },
  {
   "cell_type": "code",
   "execution_count": 7,
   "metadata": {},
   "outputs": [
    {
     "name": "stdout",
     "output_type": "stream",
     "text": [
      "Vector(5, 7)\n",
      "Vector(-1, -1)\n",
      "Vector(6, 12)\n"
     ]
    }
   ],
   "source": [
    "## Mathematical operation for vectors\n",
    "class Vector:\n",
    "    def __init__(self, x, y):\n",
    "        self.x = x\n",
    "        self.y = y\n",
    "\n",
    "    def __add__(self, other):\n",
    "        return Vector(self.x + other.x, self.y + other.y)\n",
    "    \n",
    "    def __sub__(self, other):\n",
    "        return Vector(self.x - other.x, self.y - other.y)\n",
    "    \n",
    "    def __mul__(self, other):\n",
    "        return Vector(self.x * other.x, self.y * other.y)\n",
    "    \n",
    "    def __eq__(self, other):\n",
    "        return self.x == other.x and self.y == other.y\n",
    "    \n",
    "    def __repr__(self):\n",
    "        return f'Vector({self.x}, {self.y})'\n",
    "    \n",
    "# Create objects of Vector class\n",
    "v1 = Vector(2, 3)\n",
    "v2 = Vector(3, 4)\n",
    "\n",
    "print(v1 + v2)\n",
    "print(v1 - v2)\n",
    "print(v1 * v2)"
   ]
  },
  {
   "cell_type": "code",
   "execution_count": 8,
   "metadata": {},
   "outputs": [
    {
     "name": "stdout",
     "output_type": "stream",
     "text": [
      "Complex(5, 7)\n",
      "Complex(-1, -1)\n",
      "Complex(6, 12)\n"
     ]
    }
   ],
   "source": [
    "## Overloading operaors for complex numbers\n",
    "class Complex:\n",
    "    def __init__(self, real, imag):\n",
    "        self.real = real\n",
    "        self.imag = imag\n",
    "\n",
    "    def __add__(self, other):\n",
    "        return Complex(self.real + other.real, self.imag + other.imag)\n",
    "    \n",
    "    def __sub__(self, other):\n",
    "        return Complex(self.real - other.real, self.imag - other.imag)\n",
    "    \n",
    "    def __mul__(self, other):\n",
    "        return Complex(self.real * other.real, self.imag * other.imag)\n",
    "    \n",
    "    def __eq__(self, other):\n",
    "        return self.real == other.real and self.imag == other.imag\n",
    "    \n",
    "    def __repr__(self):\n",
    "        return f'Complex({self.real}, {self.imag})' \n",
    "    \n",
    "# Create objects of Complex class\n",
    "c1 = Complex(2, 3)\n",
    "c2 = Complex(3, 4)\n",
    "print(c1 + c2)\n",
    "print(c1 - c2)\n",
    "print(c1 * c2)"
   ]
  }
 ],
 "metadata": {
  "kernelspec": {
   "display_name": "Python 3",
   "language": "python",
   "name": "python3"
  },
  "language_info": {
   "codemirror_mode": {
    "name": "ipython",
    "version": 3
   },
   "file_extension": ".py",
   "mimetype": "text/x-python",
   "name": "python",
   "nbconvert_exporter": "python",
   "pygments_lexer": "ipython3",
   "version": "3.12.0"
  }
 },
 "nbformat": 4,
 "nbformat_minor": 2
}
