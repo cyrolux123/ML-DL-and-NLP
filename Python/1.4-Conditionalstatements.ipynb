{
 "cells": [
  {
   "cell_type": "code",
   "execution_count": 1,
   "metadata": {},
   "outputs": [
    {
     "name": "stdout",
     "output_type": "stream",
     "text": [
      "You are allowed to vote in the elections\n"
     ]
    }
   ],
   "source": [
    "## if statement\n",
    "age = 20\n",
    "\n",
    "if age >=18:\n",
    "    print(\"You are allowed to vote in the elections\")"
   ]
  },
  {
   "cell_type": "code",
   "execution_count": 2,
   "metadata": {},
   "outputs": [
    {
     "name": "stdout",
     "output_type": "stream",
     "text": [
      "You are not allowed to vote in the elections\n"
     ]
    }
   ],
   "source": [
    "## else statement\n",
    "# The else statement is used to execute a block of code if the condition is true and another block of code if the condition is false.\n",
    "\n",
    "age = 16\n",
    "\n",
    "if age >= 18:\n",
    "    print(\"You are allowed to vote in the elections\")\n",
    "else:\n",
    "    print(\"You are not allowed to vote in the elections\")"
   ]
  },
  {
   "cell_type": "code",
   "execution_count": 5,
   "metadata": {},
   "outputs": [
    {
     "name": "stdout",
     "output_type": "stream",
     "text": [
      "You are an adult\n"
     ]
    }
   ],
   "source": [
    "## elif statement\n",
    "# The elif statement allows you to check multiple expressions for TRUE and execute a block of code as soon as one of the conditions is TRUE.\n",
    "\n",
    "age = 20\n",
    "\n",
    "if age < 13:\n",
    "    print(\"You are a child\")\n",
    "elif age <= 19:\n",
    "    print(\"You are a teenager\")\n",
    "else:\n",
    "    print(\"You are an adult\")\n"
   ]
  },
  {
   "cell_type": "code",
   "execution_count": 7,
   "metadata": {},
   "outputs": [
    {
     "name": "stdout",
     "output_type": "stream",
     "text": [
      "The number is positive\n",
      "The number is odd\n"
     ]
    }
   ],
   "source": [
    "## Nested Conditional Statements\n",
    "\n",
    "## number even, odd or negative\n",
    "\n",
    "num = int(input(\"Enter a number: \"))\n",
    "\n",
    "if num > 0:\n",
    "    print(\"The number is positive\")\n",
    "    if num % 2 == 0:\n",
    "        print(\"The number is even\")\n",
    "    else:\n",
    "        print(\"The number is odd\")\n",
    "else:\n",
    "    print(\"The number is zero or negative\")"
   ]
  },
  {
   "cell_type": "code",
   "execution_count": 10,
   "metadata": {},
   "outputs": [
    {
     "name": "stdout",
     "output_type": "stream",
     "text": [
      "It is a leap year\n"
     ]
    }
   ],
   "source": [
    "## Practical Example\n",
    "\n",
    "## Determine if a year is a leap year using nested conditional statements\n",
    "\n",
    "year = int(input(\"Enter a year: \"))\n",
    "if year % 4 == 0:\n",
    "    if year % 100 == 0:\n",
    "        if year % 400 == 0:\n",
    "            print(\"It is a leap year\")\n",
    "        else:\n",
    "            print(\"It is not a leap year\")\n",
    "    else:\n",
    "        print(\"It is a leap year\")\n",
    "else:\n",
    "    print(\"It is not a leap year\")"
   ]
  },
  {
   "cell_type": "code",
   "execution_count": 13,
   "metadata": {},
   "outputs": [
    {
     "name": "stdout",
     "output_type": "stream",
     "text": [
      "Cannot divide by zero\n"
     ]
    }
   ],
   "source": [
    "## Assignment\n",
    "## Simple Calculator using conditional statements\n",
    "\n",
    "sign = input(\"Enter the operation (+, -, *, /): \")\n",
    "num1 = float(input(\"Enter the first number: \"))\n",
    "num2 = float(input(\"Enter the second number: \"))\n",
    "\n",
    "if sign == \"+\":\n",
    "    print(num1 + num2)\n",
    "elif sign == \"-\":\n",
    "    print(num1 - num2)\n",
    "elif sign == \"*\":\n",
    "    print(num1 * num2)\n",
    "elif sign == \"/\":\n",
    "    if num2 == 0:\n",
    "        print(\"Cannot divide by zero\")\n",
    "    else:\n",
    "        print(num1 / num2)"
   ]
  },
  {
   "cell_type": "code",
   "execution_count": 14,
   "metadata": {},
   "outputs": [
    {
     "name": "stdout",
     "output_type": "stream",
     "text": [
      "The ticket price is: $15\n"
     ]
    }
   ],
   "source": [
    "## Ticket price based on age and whether the person is a student\n",
    "\n",
    "age = int(input(\"Enter your age: \"))\n",
    "is_student = input(\"Are you a student (yes/no): \")\n",
    "\n",
    "if age <= 5:\n",
    "    price = \"Free\"\n",
    "elif age <= 12:\n",
    "    price = \"10\"\n",
    "elif age <= 18:\n",
    "    if is_student == \"yes\":\n",
    "        price = \"15\"\n",
    "    else:\n",
    "        price = \"20\"\n",
    "else:\n",
    "    price = \"25\"\n",
    "\n",
    "print(\"The ticket price is: $\" + price)\n"
   ]
  }
 ],
 "metadata": {
  "kernelspec": {
   "display_name": "Python 3",
   "language": "python",
   "name": "python3"
  },
  "language_info": {
   "codemirror_mode": {
    "name": "ipython",
    "version": 3
   },
   "file_extension": ".py",
   "mimetype": "text/x-python",
   "name": "python",
   "nbconvert_exporter": "python",
   "pygments_lexer": "ipython3",
   "version": "3.12.0"
  }
 },
 "nbformat": 4,
 "nbformat_minor": 2
}
