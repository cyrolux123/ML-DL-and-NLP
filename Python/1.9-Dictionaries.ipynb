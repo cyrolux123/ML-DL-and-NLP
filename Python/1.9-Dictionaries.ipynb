{
 "cells": [
  {
   "cell_type": "markdown",
   "metadata": {},
   "source": [
    "Dictionaries are unordered collections of items. They store data in key-value pairs. Keys must be unique and immutable(e.g. strings, numbers or tuples), while values can be of any type."
   ]
  },
  {
   "cell_type": "code",
   "execution_count": 1,
   "metadata": {},
   "outputs": [
    {
     "name": "stdout",
     "output_type": "stream",
     "text": [
      "<class 'dict'>\n"
     ]
    }
   ],
   "source": [
    "## Creating Dictionary\n",
    "\n",
    "# We can create a dictionary by placing a comma-separated sequence of key-value pairs within curly braces {}.\n",
    "\n",
    "empty_dict = {}  \n",
    "print(type(empty_dict))"
   ]
  },
  {
   "cell_type": "code",
   "execution_count": 2,
   "metadata": {},
   "outputs": [
    {
     "name": "stdout",
     "output_type": "stream",
     "text": [
      "{}\n",
      "<class 'dict'>\n"
     ]
    }
   ],
   "source": [
    "empty_dict = dict()\n",
    "print(empty_dict)\n",
    "print(type(empty_dict))"
   ]
  },
  {
   "cell_type": "code",
   "execution_count": 4,
   "metadata": {},
   "outputs": [
    {
     "name": "stdout",
     "output_type": "stream",
     "text": [
      "{'name': 'John', 'age': 25, 'courses': ['Math', 'CompSci']}\n",
      "<class 'dict'>\n"
     ]
    }
   ],
   "source": [
    "student = {'name': 'John', 'age': 25, 'courses': ['Math', 'CompSci']}\n",
    "print(student)\n",
    "print(type(student))"
   ]
  },
  {
   "cell_type": "code",
   "execution_count": 6,
   "metadata": {},
   "outputs": [
    {
     "name": "stdout",
     "output_type": "stream",
     "text": [
      "{'name': 'Doe', 'age': 25}\n"
     ]
    }
   ],
   "source": [
    "# Single key is used not multiple keys\n",
    "\n",
    "student = {'name': 'John', 'age': 25, 'name' : 'Doe'}\n",
    "print(student)"
   ]
  },
  {
   "cell_type": "code",
   "execution_count": 10,
   "metadata": {},
   "outputs": [
    {
     "name": "stdout",
     "output_type": "stream",
     "text": [
      "John\n",
      "25\n",
      "['Math', 'CompSci']\n",
      "Math\n",
      "CompSci\n"
     ]
    }
   ],
   "source": [
    "## Accessing Dictionary Elements\n",
    "\n",
    "student = {'name': 'John', 'age': 25, 'courses': ['Math', 'CompSci']}\n",
    "print(student['name'])\n",
    "print(student['age'])\n",
    "print(student['courses'])\n",
    "print(student['courses'][0])\n",
    "print(student['courses'][1])"
   ]
  },
  {
   "cell_type": "code",
   "execution_count": 11,
   "metadata": {},
   "outputs": [
    {
     "name": "stdout",
     "output_type": "stream",
     "text": [
      "John\n",
      "25\n",
      "['Math', 'CompSci']\n",
      "Math\n",
      "CompSci\n"
     ]
    }
   ],
   "source": [
    "## Accessing Dictionary Elements using get() method\n",
    "\n",
    "print(student.get('name'))\n",
    "print(student.get('age'))\n",
    "print(student.get('courses'))\n",
    "print(student.get('courses')[0])\n",
    "print(student.get('courses')[1])"
   ]
  },
  {
   "cell_type": "code",
   "execution_count": 13,
   "metadata": {},
   "outputs": [
    {
     "name": "stdout",
     "output_type": "stream",
     "text": [
      "None\n",
      "Not Found\n"
     ]
    }
   ],
   "source": [
    "print(student.get('phone')) # None\n",
    "print(student.get('phone', 'Not Found')) # Not Found"
   ]
  },
  {
   "cell_type": "code",
   "execution_count": 20,
   "metadata": {},
   "outputs": [
    {
     "name": "stdout",
     "output_type": "stream",
     "text": [
      "{'name': 'John', 'age': 25, 'courses': ['Math', 'CompSci']}\n"
     ]
    }
   ],
   "source": [
    "## Modifying Dictionary Elements    \n",
    "# Dictionary is mutable. We can add, update or delete elements.\n",
    "\n",
    "student = {'name': 'John', 'age': 25, 'courses': ['Math', 'CompSci']}\n",
    "print(student)"
   ]
  },
  {
   "cell_type": "code",
   "execution_count": 21,
   "metadata": {},
   "outputs": [
    {
     "name": "stdout",
     "output_type": "stream",
     "text": [
      "{'name': 'John', 'age': 26, 'courses': ['Math', 'CompSci']}\n",
      "{'name': 'John', 'age': 26, 'courses': ['Math', 'CompSci'], 'phone': '555-5555'}\n",
      "{'name': 'John', 'age': 26, 'courses': ['Math', 'CompSci'], 'phone': '555-5555', 'address': 'US'}\n"
     ]
    }
   ],
   "source": [
    "student['age'] = 26 # Update value for key\n",
    "print(student)\n",
    "\n",
    "# Add new key-value pair\n",
    "student['phone'] = '555-5555' \n",
    "print(student)\n",
    "\n",
    "student['address'] = 'US'\n",
    "print(student)"
   ]
  },
  {
   "cell_type": "code",
   "execution_count": 22,
   "metadata": {},
   "outputs": [
    {
     "name": "stdout",
     "output_type": "stream",
     "text": [
      "{'name': 'John', 'age': 26, 'courses': ['Math', 'CompSci'], 'phone': '555-5555'}\n"
     ]
    }
   ],
   "source": [
    "del student['address'] # Delete key-value pair\n",
    "\n",
    "print(student)"
   ]
  },
  {
   "cell_type": "code",
   "execution_count": 23,
   "metadata": {},
   "outputs": [],
   "source": [
    "del student['courses'] # Delete key-value pair"
   ]
  },
  {
   "cell_type": "code",
   "execution_count": 24,
   "metadata": {},
   "outputs": [
    {
     "name": "stdout",
     "output_type": "stream",
     "text": [
      "{'name': 'John', 'age': 26, 'phone': '555-5555'}\n"
     ]
    }
   ],
   "source": [
    "print(student)"
   ]
  },
  {
   "cell_type": "code",
   "execution_count": 27,
   "metadata": {},
   "outputs": [
    {
     "name": "stdout",
     "output_type": "stream",
     "text": [
      "dict_keys(['name', 'age', 'phone'])\n",
      "dict_values(['John', 26, '555-5555'])\n",
      "dict_items([('name', 'John'), ('age', 26), ('phone', '555-5555')])\n"
     ]
    }
   ],
   "source": [
    "## Dictionary Methods\n",
    "\n",
    "keys = student.keys() # get all the keys\n",
    "print(keys)\n",
    "\n",
    "values = student.values() # get all the values\n",
    "print(values)\n",
    "\n",
    "items = student.items() # get all the key-value pairs\n",
    "print(items)"
   ]
  },
  {
   "cell_type": "code",
   "execution_count": 29,
   "metadata": {},
   "outputs": [
    {
     "name": "stdout",
     "output_type": "stream",
     "text": [
      "{'name': 'John', 'age': 26, 'phone': '555-5555'}\n",
      "{'name': 'John', 'age': 26, 'phone': '555-5555'}\n"
     ]
    }
   ],
   "source": [
    "## Shallow Copy of Dictionary\n",
    "\n",
    "student_copy = student\n",
    "print(student)\n",
    "print(student_copy)"
   ]
  },
  {
   "cell_type": "code",
   "execution_count": 30,
   "metadata": {},
   "outputs": [
    {
     "name": "stdout",
     "output_type": "stream",
     "text": [
      "{'name': 'Roman', 'age': 26, 'phone': '555-5555'}\n",
      "{'name': 'Roman', 'age': 26, 'phone': '555-5555'}\n"
     ]
    }
   ],
   "source": [
    "student['name'] = 'Roman'\n",
    "print(student)\n",
    "print(student_copy)"
   ]
  },
  {
   "cell_type": "code",
   "execution_count": 32,
   "metadata": {},
   "outputs": [
    {
     "name": "stdout",
     "output_type": "stream",
     "text": [
      "{'name': 'Roman', 'age': 26, 'phone': '555-5555'}\n",
      "{'name': 'Roman', 'age': 26, 'phone': '555-5555'}\n"
     ]
    }
   ],
   "source": [
    "student_copy1 = student.copy()\n",
    "print(student)\n",
    "print(student_copy1)"
   ]
  },
  {
   "cell_type": "code",
   "execution_count": 33,
   "metadata": {},
   "outputs": [
    {
     "name": "stdout",
     "output_type": "stream",
     "text": [
      "{'name': 'John', 'age': 26, 'phone': '555-5555'}\n",
      "{'name': 'Roman', 'age': 26, 'phone': '555-5555'}\n"
     ]
    }
   ],
   "source": [
    "student['name'] = 'John'\n",
    "print(student)\n",
    "print(student_copy1)"
   ]
  },
  {
   "cell_type": "code",
   "execution_count": 39,
   "metadata": {},
   "outputs": [
    {
     "name": "stdout",
     "output_type": "stream",
     "text": [
      "{'name': 'John', 'age': 26, 'phone': '555-5555'}\n",
      "name\n",
      "age\n",
      "phone\n",
      "John\n",
      "26\n",
      "555-5555\n",
      "name John\n",
      "age 26\n",
      "phone 555-5555\n"
     ]
    }
   ],
   "source": [
    "## Iterating through Dictionary\n",
    "# We can iterate through dictionary using for loop.\n",
    "# We can iterate through keys, values or key-value pairs.\n",
    "print(student)\n",
    "\n",
    "# Iterate through keys\n",
    "for key in student.keys():\n",
    "    print(key)\n",
    "\n",
    "# Iterate through values\n",
    "for value in student.values():\n",
    "    print(value)\n",
    "\n",
    "# Iterate through key-value pairs\n",
    "for key, value in student.items():\n",
    "    print(key, value)"
   ]
  },
  {
   "cell_type": "code",
   "execution_count": 41,
   "metadata": {},
   "outputs": [
    {
     "name": "stdout",
     "output_type": "stream",
     "text": [
      "{'student1': {'name': 'John', 'age': 25}, 'student2': {'name': 'Peter', 'age': 26}, 'student3': {'name': 'Roman', 'age': 27}}\n"
     ]
    }
   ],
   "source": [
    "## Nested Dictionary\n",
    "\n",
    "student = {\n",
    "    \"student1\" : { \"name\" : \"John\", \"age\" : 25 },\n",
    "    \"student2\" : { \"name\" : \"Peter\", \"age\" : 26 },\n",
    "    \"student3\" : { \"name\" : \"Roman\", \"age\" : 27 }\n",
    "}\n",
    "print(student)"
   ]
  },
  {
   "cell_type": "code",
   "execution_count": 42,
   "metadata": {},
   "outputs": [
    {
     "name": "stdout",
     "output_type": "stream",
     "text": [
      "{'name': 'John', 'age': 25}\n",
      "John\n",
      "25\n"
     ]
    }
   ],
   "source": [
    "## Accessing Nested Dictionary Elements\n",
    "print(student['student1'])\n",
    "print(student['student1']['name'])\n",
    "print(student['student1']['age'])"
   ]
  },
  {
   "cell_type": "code",
   "execution_count": 43,
   "metadata": {},
   "outputs": [
    {
     "name": "stdout",
     "output_type": "stream",
     "text": [
      "student1\n",
      "name John\n",
      "age 25\n",
      "student2\n",
      "name Peter\n",
      "age 26\n",
      "student3\n",
      "name Roman\n",
      "age 27\n"
     ]
    }
   ],
   "source": [
    "## Iterating through Nested Dictionary\n",
    "\n",
    "for student_key, student_value in student.items():\n",
    "    print(student_key)\n",
    "    for key in student_value:\n",
    "        print(key, student_value[key])"
   ]
  },
  {
   "cell_type": "code",
   "execution_count": 46,
   "metadata": {},
   "outputs": [
    {
     "name": "stdout",
     "output_type": "stream",
     "text": [
      "{0: 0, 1: 1, 2: 4, 3: 9, 4: 16, 5: 25}\n"
     ]
    }
   ],
   "source": [
    "## Dictionary Comprehension\n",
    "\n",
    "# Dictionary comprehension is an elegant and concise way to create dictionaries.\n",
    "\n",
    "# Syntax:   \n",
    "# {key: value for key in iterable}\n",
    "\n",
    "# Example\n",
    "squares = {x: x*x for x in range(6)}\n",
    "print(squares)"
   ]
  },
  {
   "cell_type": "code",
   "execution_count": 48,
   "metadata": {},
   "outputs": [
    {
     "name": "stdout",
     "output_type": "stream",
     "text": [
      "{0: 0, 2: 4, 4: 16}\n"
     ]
    }
   ],
   "source": [
    "## Conditional Dictionary Comprehension\n",
    "\n",
    "# Syntax:\n",
    "# {key: value for key in iterable if condition} \n",
    "\n",
    "# Example\n",
    "even = {x: x*x for x in range(6) if x % 2 == 0} \n",
    "print(even)"
   ]
  },
  {
   "cell_type": "code",
   "execution_count": null,
   "metadata": {},
   "outputs": [],
   "source": []
  }
 ],
 "metadata": {
  "kernelspec": {
   "display_name": "Python 3",
   "language": "python",
   "name": "python3"
  },
  "language_info": {
   "codemirror_mode": {
    "name": "ipython",
    "version": 3
   },
   "file_extension": ".py",
   "mimetype": "text/x-python",
   "name": "python",
   "nbconvert_exporter": "python",
   "pygments_lexer": "ipython3",
   "version": "3.12.0"
  }
 },
 "nbformat": 4,
 "nbformat_minor": 2
}
