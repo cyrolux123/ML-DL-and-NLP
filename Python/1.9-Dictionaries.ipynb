{
 "cells": [
  {
   "cell_type": "markdown",
   "metadata": {},
   "source": [
    "Dictionaries are unordered collections of items. They store data in key-value pairs. Keys must be unique and immutable(e.g. strings, numbers or tuples), while values can be of any type."
   ]
  },
  {
   "cell_type": "code",
   "execution_count": 1,
   "metadata": {},
   "outputs": [
    {
     "name": "stdout",
     "output_type": "stream",
     "text": [
      "<class 'dict'>\n"
     ]
    }
   ],
   "source": [
    "## Creating Dictionary\n",
    "\n",
    "# We can create a dictionary by placing a comma-separated sequence of key-value pairs within curly braces {}.\n",
    "\n",
    "empty_dict = {}  \n",
    "print(type(empty_dict))"
   ]
  },
  {
   "cell_type": "code",
   "execution_count": 2,
   "metadata": {},
   "outputs": [
    {
     "name": "stdout",
     "output_type": "stream",
     "text": [
      "{}\n",
      "<class 'dict'>\n"
     ]
    }
   ],
   "source": [
    "empty_dict = dict()\n",
    "print(empty_dict)\n",
    "print(type(empty_dict))"
   ]
  },
  {
   "cell_type": "code",
   "execution_count": 4,
   "metadata": {},
   "outputs": [
    {
     "name": "stdout",
     "output_type": "stream",
     "text": [
      "{'name': 'John', 'age': 25, 'courses': ['Math', 'CompSci']}\n",
      "<class 'dict'>\n"
     ]
    }
   ],
   "source": [
    "student = {'name': 'John', 'age': 25, 'courses': ['Math', 'CompSci']}\n",
    "print(student)\n",
    "print(type(student))"
   ]
  },
  {
   "cell_type": "code",
   "execution_count": 6,
   "metadata": {},
   "outputs": [
    {
     "name": "stdout",
     "output_type": "stream",
     "text": [
      "{'name': 'Doe', 'age': 25}\n"
     ]
    }
   ],
   "source": [
    "# Single key is used not multiple keys\n",
    "\n",
    "student = {'name': 'John', 'age': 25, 'name' : 'Doe'}\n",
    "print(student)"
   ]
  },
  {
   "cell_type": "code",
   "execution_count": 10,
   "metadata": {},
   "outputs": [
    {
     "name": "stdout",
     "output_type": "stream",
     "text": [
      "John\n",
      "25\n",
      "['Math', 'CompSci']\n",
      "Math\n",
      "CompSci\n"
     ]
    }
   ],
   "source": [
    "## Accessing Dictionary Elements\n",
    "\n",
    "student = {'name': 'John', 'age': 25, 'courses': ['Math', 'CompSci']}\n",
    "print(student['name'])\n",
    "print(student['age'])\n",
    "print(student['courses'])\n",
    "print(student['courses'][0])\n",
    "print(student['courses'][1])"
   ]
  },
  {
   "cell_type": "code",
   "execution_count": 11,
   "metadata": {},
   "outputs": [
    {
     "name": "stdout",
     "output_type": "stream",
     "text": [
      "John\n",
      "25\n",
      "['Math', 'CompSci']\n",
      "Math\n",
      "CompSci\n"
     ]
    }
   ],
   "source": [
    "## Accessing Dictionary Elements using get() method\n",
    "\n",
    "print(student.get('name'))\n",
    "print(student.get('age'))\n",
    "print(student.get('courses'))\n",
    "print(student.get('courses')[0])\n",
    "print(student.get('courses')[1])"
   ]
  },
  {
   "cell_type": "code",
   "execution_count": 13,
   "metadata": {},
   "outputs": [
    {
     "name": "stdout",
     "output_type": "stream",
     "text": [
      "None\n",
      "Not Found\n"
     ]
    }
   ],
   "source": [
    "print(student.get('phone')) # None\n",
    "print(student.get('phone', 'Not Found')) # Not Found"
   ]
  },
  {
   "cell_type": "code",
   "execution_count": 20,
   "metadata": {},
   "outputs": [
    {
     "name": "stdout",
     "output_type": "stream",
     "text": [
      "{'name': 'John', 'age': 25, 'courses': ['Math', 'CompSci']}\n"
     ]
    }
   ],
   "source": [
    "## Modifying Dictionary Elements    \n",
    "# Dictionary is mutable. We can add, update or delete elements.\n",
    "\n",
    "student = {'name': 'John', 'age': 25, 'courses': ['Math', 'CompSci']}\n",
    "print(student)"
   ]
  },
  {
   "cell_type": "code",
   "execution_count": 21,
   "metadata": {},
   "outputs": [
    {
     "name": "stdout",
     "output_type": "stream",
     "text": [
      "{'name': 'John', 'age': 26, 'courses': ['Math', 'CompSci']}\n",
      "{'name': 'John', 'age': 26, 'courses': ['Math', 'CompSci'], 'phone': '555-5555'}\n",
      "{'name': 'John', 'age': 26, 'courses': ['Math', 'CompSci'], 'phone': '555-5555', 'address': 'US'}\n"
     ]
    }
   ],
   "source": [
    "student['age'] = 26 # Update value for key\n",
    "print(student)\n",
    "\n",
    "# Add new key-value pair\n",
    "student['phone'] = '555-5555' \n",
    "print(student)\n",
    "\n",
    "student['address'] = 'US'\n",
    "print(student)"
   ]
  },
  {
   "cell_type": "code",
   "execution_count": null,
   "metadata": {},
   "outputs": [],
   "source": []
  }
 ],
 "metadata": {
  "kernelspec": {
   "display_name": "Python 3",
   "language": "python",
   "name": "python3"
  },
  "language_info": {
   "codemirror_mode": {
    "name": "ipython",
    "version": 3
   },
   "file_extension": ".py",
   "mimetype": "text/x-python",
   "name": "python",
   "nbconvert_exporter": "python",
   "pygments_lexer": "ipython3",
   "version": "3.12.0"
  }
 },
 "nbformat": 4,
 "nbformat_minor": 2
}
