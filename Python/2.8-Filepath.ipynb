{
 "cells": [
  {
   "cell_type": "code",
   "execution_count": 2,
   "metadata": {},
   "outputs": [
    {
     "name": "stdout",
     "output_type": "stream",
     "text": [
      "Current working directory: c:\\ML Nabin\\Python\n"
     ]
    }
   ],
   "source": [
    "import os\n",
    "cwd = os.getcwd()\n",
    "print(f\"Current working directory: {cwd}\")"
   ]
  },
  {
   "cell_type": "code",
   "execution_count": 3,
   "metadata": {},
   "outputs": [
    {
     "name": "stdout",
     "output_type": "stream",
     "text": [
      "Created a new directory: package\n"
     ]
    }
   ],
   "source": [
    "## Create a new directory\n",
    "\n",
    "new_directory = \"package\"\n",
    "os.mkdir(new_directory)\n",
    "print(f\"Created a new directory: {new_directory}\")"
   ]
  },
  {
   "cell_type": "code",
   "execution_count": 4,
   "metadata": {},
   "outputs": [
    {
     "name": "stdout",
     "output_type": "stream",
     "text": [
      "Items in current directory: ['.git', '1.1-Variables.ipynb', '1.2-Datatypes.ipynb', '1.3-Operators.ipynb', '1.4-Conditionalstatements.ipynb', '1.5-Loops.ipynb', '1.6-Lists.ipynb', '1.7-Tuples.ipynb', '1.8-Sets.ipynb', '1.9-Dictionaries.ipynb', '1.9.1-ListExamples.ipynb', '2.0-Functions.ipynb', '2.1-Function Examples.ipynb', '2.2-Lambda Funcctions.ipynb', '2.3-Map Function.ipynb', '2.4-Filter Function.ipynb', '2.5 Import.ipynb', '2.6-StandardLibrary.ipynb', '2.7- Fileoperation.ipynb', '2.8-Filepath.ipynb', 'assignment_2_solved.ipynb', 'assignment_question_solved.ipynb', 'basics.ipynb', 'destination.txt', 'example.bin', 'example.csv', 'example.txt', 'nabin_package', 'package', 'requirements.txt', 'sample.txt', 'source.txt', 'test_dir', 'test_package.py', 'venv']\n"
     ]
    }
   ],
   "source": [
    "## Listing Files and Directories\n",
    "\n",
    "items = os.listdir('.')\n",
    "print(f\"Items in current directory: {items}\")"
   ]
  },
  {
   "cell_type": "code",
   "execution_count": 6,
   "metadata": {},
   "outputs": [
    {
     "name": "stdout",
     "output_type": "stream",
     "text": [
      "Full path: folder\\file.txt\n"
     ]
    }
   ],
   "source": [
    "## Joining Paths\n",
    "\n",
    "dir_name = \"folder\"\n",
    "file_name = \"file.txt\"\n",
    "full_path = os.path.join(dir_name, file_name)\n",
    "print(f\"Full path: {full_path}\")"
   ]
  },
  {
   "cell_type": "code",
   "execution_count": 7,
   "metadata": {},
   "outputs": [
    {
     "name": "stdout",
     "output_type": "stream",
     "text": [
      "Full path: c:\\ML Nabin\\Python\\folder\\file.txt\n"
     ]
    }
   ],
   "source": [
    "dir_name = \"folder\"\n",
    "file_name = \"file.txt\"\n",
    "full_path = os.path.join(os.getcwd(), dir_name, file_name)\n",
    "print(f\"Full path: {full_path}\")"
   ]
  },
  {
   "cell_type": "code",
   "execution_count": 8,
   "metadata": {},
   "outputs": [
    {
     "name": "stdout",
     "output_type": "stream",
     "text": [
      "The path example1.txt does not exist\n"
     ]
    }
   ],
   "source": [
    "path = 'example1.txt'\n",
    "if os.path.exists(path):\n",
    "    print(f\"The path {path} exists\")\n",
    "else:\n",
    "    print(f\"The path {path} does not exist\")"
   ]
  },
  {
   "cell_type": "code",
   "execution_count": 10,
   "metadata": {},
   "outputs": [
    {
     "name": "stdout",
     "output_type": "stream",
     "text": [
      "The path example.txt is a file\n"
     ]
    }
   ],
   "source": [
    "# Check if a path is a file or directory\n",
    "\n",
    "import os\n",
    "\n",
    "path = 'example.txt'\n",
    "if os.path.isfile(path):\n",
    "    print(f\"The path {path} is a file\")\n",
    "elif os.path.isdir(path):\n",
    "    print(f\"The path {path} is a directory\")\n",
    "else:\n",
    "    print(f\"The path {path} is neither a file nor a directory\")"
   ]
  },
  {
   "cell_type": "code",
   "execution_count": null,
   "metadata": {},
   "outputs": [],
   "source": []
  }
 ],
 "metadata": {
  "kernelspec": {
   "display_name": "Python 3",
   "language": "python",
   "name": "python3"
  },
  "language_info": {
   "codemirror_mode": {
    "name": "ipython",
    "version": 3
   },
   "file_extension": ".py",
   "mimetype": "text/x-python",
   "name": "python",
   "nbconvert_exporter": "python",
   "pygments_lexer": "ipython3",
   "version": "3.12.0"
  }
 },
 "nbformat": 4,
 "nbformat_minor": 2
}
