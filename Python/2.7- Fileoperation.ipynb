{
 "cells": [
  {
   "cell_type": "markdown",
   "metadata": {},
   "source": [
    "File handling is a crucial part of any programming language. Python provides built-in functions and methods to read from and write to files, both text and binary"
   ]
  },
  {
   "cell_type": "code",
   "execution_count": 4,
   "metadata": {},
   "outputs": [
    {
     "name": "stdout",
     "output_type": "stream",
     "text": [
      "Hello How are you?\n",
      "I am fine\n",
      "Nabin is my name\n",
      "Python is my game\n"
     ]
    }
   ],
   "source": [
    "## Read a whole file\n",
    "\n",
    "with open('example.txt', 'r') as file:\n",
    "    content = file.read()\n",
    "print(content) "
   ]
  },
  {
   "cell_type": "code",
   "execution_count": 6,
   "metadata": {},
   "outputs": [
    {
     "name": "stdout",
     "output_type": "stream",
     "text": [
      "Hello How are you?\n",
      "I am fine\n",
      "Nabin is my name\n",
      "Python is my game\n"
     ]
    }
   ],
   "source": [
    "## Read a file line by line\n",
    "with open('example.txt', 'r') as file:\n",
    "    for line in file:\n",
    "        print(line.strip()) # strip() removes the newline character at the end of the line"
   ]
  },
  {
   "cell_type": "code",
   "execution_count": 7,
   "metadata": {},
   "outputs": [],
   "source": [
    "## Writing a file(Overwriting)\n",
    "\n",
    "with open('example.txt', 'w') as file:\n",
    "    file.write('This is the new content of the file\\n')\n",
    "    file.write('and this is the second line')"
   ]
  },
  {
   "cell_type": "code",
   "execution_count": 8,
   "metadata": {},
   "outputs": [],
   "source": [
    "## Writing a file without overwriting\n",
    "\n",
    "with open('example.txt', 'a') as file:\n",
    "    file.write('\\nThis is the appended line')"
   ]
  },
  {
   "cell_type": "code",
   "execution_count": 9,
   "metadata": {},
   "outputs": [],
   "source": [
    "## Writing a list of lines to a file\n",
    "\n",
    "lines = ['first line\\n', 'second line\\n', 'third line\\n']\n",
    "with open('example.txt', 'a') as file:\n",
    "    file.writelines(lines)"
   ]
  },
  {
   "cell_type": "code",
   "execution_count": 10,
   "metadata": {},
   "outputs": [],
   "source": [
    "## Binary files\n",
    "\n",
    "# Writing a binary file\n",
    "data = b'\\x00\\x01\\x02\\x03\\x04'\n",
    "with open('example.bin', 'wb') as file:\n",
    "    file.write(data)"
   ]
  },
  {
   "cell_type": "code",
   "execution_count": null,
   "metadata": {},
   "outputs": [],
   "source": []
  }
 ],
 "metadata": {
  "kernelspec": {
   "display_name": "Python 3",
   "language": "python",
   "name": "python3"
  },
  "language_info": {
   "codemirror_mode": {
    "name": "ipython",
    "version": 3
   },
   "file_extension": ".py",
   "mimetype": "text/x-python",
   "name": "python",
   "nbconvert_exporter": "python",
   "pygments_lexer": "ipython3",
   "version": "3.12.0"
  }
 },
 "nbformat": 4,
 "nbformat_minor": 2
}
