{
  "cells": [
    {
      "cell_type": "markdown",
      "metadata": {
        "id": "87CgfMITwZAW"
      },
      "source": [
        "# Lesson 1.2: Python Basics\n",
        "## Topics Covered:\n",
        "- Syntax and Semantics\n",
        "- Variables and Data Types\n",
        "- Basic Operators (Arithmetic, Comparison, Logical)\n"
      ]
    },
    {
      "cell_type": "markdown",
      "metadata": {
        "id": "0NCW0xMxwZAa"
      },
      "source": [
        "## 1. Syntax and Semantics\n",
        "\n",
        "**Question 1:** Write a Python program to print \"Hello, World!\"."
      ]
    },
    {
      "cell_type": "code",
      "execution_count": 1,
      "metadata": {
        "colab": {
          "base_uri": "https://localhost:8080/"
        },
        "id": "2srb-Ew5wZAc",
        "outputId": "4ac2606b-e088-46bb-969f-dd0fc15ae4ad"
      },
      "outputs": [
        {
          "output_type": "stream",
          "name": "stdout",
          "text": [
            "Hello, World!\n"
          ]
        }
      ],
      "source": [
        "print(\"Hello, World!\")"
      ]
    },
    {
      "cell_type": "markdown",
      "metadata": {
        "id": "llBytujDwZAg"
      },
      "source": [
        "**Question 2:** Write a Python program that takes a user input and prints it."
      ]
    },
    {
      "cell_type": "code",
      "execution_count": 4,
      "metadata": {
        "colab": {
          "base_uri": "https://localhost:8080/"
        },
        "id": "eeLOw8EywZAh",
        "outputId": "bc54031e-7dc1-4ad4-d46a-2a7785901bdc"
      },
      "outputs": [
        {
          "output_type": "stream",
          "name": "stdout",
          "text": [
            "Enter your name: Nabin\n",
            "Hello, Nabin !\n"
          ]
        }
      ],
      "source": [
        "inp = input(\"Enter your name: \")\n",
        "print(\"Hello,\",inp,\"!\")"
      ]
    },
    {
      "cell_type": "markdown",
      "metadata": {
        "id": "GFKFm7H9wZAi"
      },
      "source": [
        "**Question 3:** Write a Python program to check if a number is positive, negative, or zero."
      ]
    },
    {
      "cell_type": "code",
      "execution_count": 5,
      "metadata": {
        "colab": {
          "base_uri": "https://localhost:8080/"
        },
        "id": "Ro8PRAsWwZAj",
        "outputId": "f400b640-bb0b-41f1-8e51-de23735d8af4"
      },
      "outputs": [
        {
          "output_type": "stream",
          "name": "stdout",
          "text": [
            "Enter a number: 0\n",
            "The number is zero.\n"
          ]
        }
      ],
      "source": [
        "number = int(input(\"Enter a number: \"))\n",
        "\n",
        "if number < 0:\n",
        "    print(\"The number is negative.\")\n",
        "elif number == 0:\n",
        "    print(\"The number is zero.\")\n",
        "else:\n",
        "    print(\"The number is positive.\")"
      ]
    },
    {
      "cell_type": "markdown",
      "metadata": {
        "id": "VIYujQh0wZAj"
      },
      "source": [
        "0**Question 4:** Write a Python program to find the largest of three numbers."
      ]
    },
    {
      "cell_type": "code",
      "execution_count": 6,
      "metadata": {
        "colab": {
          "base_uri": "https://localhost:8080/"
        },
        "id": "bX9vM2mwwZAl",
        "outputId": "8f410ea3-c3bc-4f0a-b2c0-5dc25d1f96d7"
      },
      "outputs": [
        {
          "output_type": "stream",
          "name": "stdout",
          "text": [
            "Enter first number 9\n",
            "Enter second number 2\n",
            "Enter third number 55\n",
            "55 is the largest number\n"
          ]
        }
      ],
      "source": [
        "a = int(input('Enter first number '))\n",
        "b = int(input('Enter second number '))\n",
        "c = int(input('Enter third number '))\n",
        "\n",
        "if a > b and a > c:\n",
        "  print(a,'is the largest number')\n",
        "elif b > c:\n",
        "  print(b,'is the largest number')\n",
        "else:\n",
        "  print(c,'is the largest number')"
      ]
    },
    {
      "cell_type": "markdown",
      "metadata": {
        "id": "yKGuT8pcwZAm"
      },
      "source": [
        "**Question 5:** Write a Python program to calculate the factorial of a number."
      ]
    },
    {
      "cell_type": "code",
      "execution_count": 8,
      "metadata": {
        "colab": {
          "base_uri": "https://localhost:8080/"
        },
        "id": "GPwOBjI2wZAn",
        "outputId": "b3912841-0f19-4ffa-aae1-f33a37f1aff5"
      },
      "outputs": [
        {
          "output_type": "stream",
          "name": "stdout",
          "text": [
            "Enter the number: 5\n",
            "120\n"
          ]
        }
      ],
      "source": [
        "n = int(input('Enter the number: '))\n",
        "fact = 1\n",
        "for i in range(1,n+1):\n",
        "  fact = fact * i\n",
        "print(fact)"
      ]
    },
    {
      "cell_type": "markdown",
      "metadata": {
        "id": "-sRVsO2FwZAo"
      },
      "source": [
        "## 2. Variables and Data Types\n",
        "\n",
        "**Question 6:** Create variables of different data types: integer, float, string, and boolean. Print their values and types."
      ]
    },
    {
      "cell_type": "code",
      "execution_count": 9,
      "metadata": {
        "id": "qvVcFMjQwZAo",
        "colab": {
          "base_uri": "https://localhost:8080/"
        },
        "outputId": "d0dd2269-35f9-4713-fdc0-6b42318144a8"
      },
      "outputs": [
        {
          "output_type": "stream",
          "name": "stdout",
          "text": [
            "5\n",
            "<class 'int'>\n",
            "5.5\n",
            "<class 'float'>\n",
            "Nabin\n",
            "<class 'str'>\n",
            "True\n",
            "<class 'bool'>\n"
          ]
        }
      ],
      "source": [
        "a = 5\n",
        "b = 5.5\n",
        "c = \"Nabin\"\n",
        "d = True\n",
        "\n",
        "print(a)\n",
        "print(type(a))\n",
        "print(b)\n",
        "print(type(b))\n",
        "print(c)\n",
        "print(type(c))\n",
        "print(d)\n",
        "print(type(d))"
      ]
    },
    {
      "cell_type": "markdown",
      "metadata": {
        "id": "_v4d1jJPwZAq"
      },
      "source": [
        "**Question 7:** Write a Python program to swap the values of two variables."
      ]
    },
    {
      "cell_type": "code",
      "execution_count": 11,
      "metadata": {
        "id": "lgA16YjXwZAr",
        "colab": {
          "base_uri": "https://localhost:8080/"
        },
        "outputId": "e2ab91ab-e311-4f1e-b8f6-dd76b66b78e2"
      },
      "outputs": [
        {
          "output_type": "stream",
          "name": "stdout",
          "text": [
            "Enter first number 2\n",
            "Enter second number 3\n",
            "The value of a after swapping is 3\n",
            "The value of b after swapping is 2\n"
          ]
        }
      ],
      "source": [
        "a = int(input('Enter first number '))\n",
        "b = int(input('Enter second number '))\n",
        "a, b = b, a\n",
        "print('The value of a after swapping is',a)\n",
        "print('The value of b after swapping is',b)"
      ]
    },
    {
      "cell_type": "markdown",
      "metadata": {
        "id": "hS_ot22nwZAs"
      },
      "source": [
        "**Question 8:** Write a Python program to convert Celsius to Fahrenheit."
      ]
    },
    {
      "cell_type": "code",
      "execution_count": 13,
      "metadata": {
        "id": "UVWAVwT_wZAt",
        "colab": {
          "base_uri": "https://localhost:8080/"
        },
        "outputId": "03252cb9-6971-44e6-ada6-9302099a44cc"
      },
      "outputs": [
        {
          "output_type": "stream",
          "name": "stdout",
          "text": [
            "Enter the temperature in celcius 37\n",
            "The value of 37 in fahrenheit is 98.60000000000001\n"
          ]
        }
      ],
      "source": [
        "cel = int(input('Enter the temperature in celcius '))\n",
        "fah = cel * 1.8 + 32\n",
        "print('The value of',cel,'in fahrenheit is',fah)"
      ]
    },
    {
      "cell_type": "markdown",
      "metadata": {
        "id": "gA-ga3z-wZAt"
      },
      "source": [
        "**Question 9:** Write a Python program to concatenate two strings."
      ]
    },
    {
      "cell_type": "code",
      "execution_count": 17,
      "metadata": {
        "id": "dumVUz1-wZAu",
        "colab": {
          "base_uri": "https://localhost:8080/"
        },
        "outputId": "6ba02d45-05a5-4dbf-9d0b-00817c0646ff"
      },
      "outputs": [
        {
          "output_type": "stream",
          "name": "stdout",
          "text": [
            "Enter first string Nabin \n",
            "Enter second string Katwal\n",
            "The concatenated string is  Nabin Katwal\n"
          ]
        }
      ],
      "source": [
        "a = input('Enter first string ')\n",
        "b = input('Enter second string ')\n",
        "print('The concatenated string is ',a+b)"
      ]
    },
    {
      "cell_type": "markdown",
      "metadata": {
        "id": "hIkvzsnKwZAv"
      },
      "source": [
        "**Question 10:** Write a Python program to check if a variable is of a specific data type."
      ]
    },
    {
      "cell_type": "code",
      "execution_count": 21,
      "metadata": {
        "id": "YsjILXC-wZAv",
        "colab": {
          "base_uri": "https://localhost:8080/"
        },
        "outputId": "a755ce3d-4ad8-4d50-f47d-1b7c9c8c6f54"
      },
      "outputs": [
        {
          "output_type": "stream",
          "name": "stdout",
          "text": [
            "The number is not float data type\n"
          ]
        }
      ],
      "source": [
        "a = 5\n",
        "if isinstance(a,float):\n",
        "  print('The number is float data type')\n",
        "else:\n",
        "  print('The number is not float data type')"
      ]
    },
    {
      "cell_type": "markdown",
      "metadata": {
        "id": "m5eSsiBBwZAv"
      },
      "source": [
        "## 3. Basic Operators (Arithmetic, Comparison, Logical)\n",
        "\n",
        "**Question 11:** Write a Python program to perform arithmetic operations: addition, subtraction, multiplication, and division."
      ]
    },
    {
      "cell_type": "code",
      "execution_count": 23,
      "metadata": {
        "id": "anpsXSDWwZAw",
        "colab": {
          "base_uri": "https://localhost:8080/"
        },
        "outputId": "53ab252f-4b62-43f5-de51-b4e28c2f173d"
      },
      "outputs": [
        {
          "output_type": "stream",
          "name": "stdout",
          "text": [
            "Addition : 18\n",
            "Subtraction : 6\n",
            "Multiplication : 72\n",
            "Division : 2.0\n"
          ]
        }
      ],
      "source": [
        "a = 12\n",
        "b = 6\n",
        "print(f\"Addition : {a + b}\")\n",
        "print(f\"Subtraction : {a - b}\")\n",
        "print(f\"Multiplication : {a * b}\")\n",
        "print(f\"Division : {a / b}\")"
      ]
    },
    {
      "cell_type": "markdown",
      "metadata": {
        "id": "YxXuehh-wZAw"
      },
      "source": [
        "**Question 12:** Write a Python program to demonstrate comparison operators: equal to, not equal to, greater than, less than."
      ]
    },
    {
      "cell_type": "code",
      "execution_count": 24,
      "metadata": {
        "id": "kDk3mL6cwZAw",
        "colab": {
          "base_uri": "https://localhost:8080/"
        },
        "outputId": "832c4bf6-bb1c-4c02-dc44-dca56fcc1ae6"
      },
      "outputs": [
        {
          "output_type": "stream",
          "name": "stdout",
          "text": [
            "False\n",
            "True\n",
            "True\n",
            "False\n"
          ]
        }
      ],
      "source": [
        "a = 5\n",
        "b = 4\n",
        "print(a == b)\n",
        "print(a != b)\n",
        "print(a > b)\n",
        "print(a < b)"
      ]
    },
    {
      "cell_type": "markdown",
      "metadata": {
        "id": "Ycywq0cPwZAw"
      },
      "source": [
        "**Question 13:** Write a Python program to demonstrate logical operators: and, or, not."
      ]
    },
    {
      "cell_type": "code",
      "execution_count": 25,
      "metadata": {
        "id": "7fwh7IvpwZAw",
        "colab": {
          "base_uri": "https://localhost:8080/"
        },
        "outputId": "8267bc73-71cc-432e-e701-a38b0b35ff3e"
      },
      "outputs": [
        {
          "output_type": "stream",
          "name": "stdout",
          "text": [
            "False\n",
            "True\n",
            "False\n"
          ]
        }
      ],
      "source": [
        "a = False\n",
        "b = True\n",
        "print(a and b)\n",
        "print(a or b)\n",
        "print(not b)"
      ]
    },
    {
      "cell_type": "markdown",
      "metadata": {
        "id": "T1QyTzm0wZAx"
      },
      "source": [
        "**Question 14:** Write a Python program to calculate the square of a number."
      ]
    },
    {
      "cell_type": "code",
      "execution_count": 26,
      "metadata": {
        "id": "7EN9K-VFwZAx",
        "colab": {
          "base_uri": "https://localhost:8080/"
        },
        "outputId": "2653befa-3460-4496-97bd-1475cc50ce2f"
      },
      "outputs": [
        {
          "output_type": "stream",
          "name": "stdout",
          "text": [
            "49\n"
          ]
        }
      ],
      "source": [
        "def square(a):\n",
        "  b = a ** 2\n",
        "  return b\n",
        "\n",
        "print(square(7))"
      ]
    },
    {
      "cell_type": "markdown",
      "metadata": {
        "id": "xO8SS1cqwZAx"
      },
      "source": [
        "**Question 15:** Write a Python program to check if a number is even or odd."
      ]
    },
    {
      "cell_type": "code",
      "execution_count": 28,
      "metadata": {
        "id": "zhziLZTfwZAy",
        "colab": {
          "base_uri": "https://localhost:8080/"
        },
        "outputId": "32b77da8-a9ef-4abb-9e6d-aecefd9951ec"
      },
      "outputs": [
        {
          "output_type": "stream",
          "name": "stdout",
          "text": [
            "Entere a number 6\n",
            "The number is even\n"
          ]
        }
      ],
      "source": [
        "a = int(input('Entere a number '))\n",
        "if a % 2 == 0:\n",
        "  print('The number is even')\n",
        "else:\n",
        "  print('The number is odd')"
      ]
    },
    {
      "cell_type": "markdown",
      "metadata": {
        "id": "B7SsYWKtwZAy"
      },
      "source": [
        "**Question 16:** Write a Python program to find the sum of the first n natural numbers."
      ]
    },
    {
      "cell_type": "code",
      "execution_count": 32,
      "metadata": {
        "id": "bMBdnqrcwZAz",
        "colab": {
          "base_uri": "https://localhost:8080/"
        },
        "outputId": "ed7223a8-36e4-444e-8ebf-f49d19c92e92"
      },
      "outputs": [
        {
          "output_type": "stream",
          "name": "stdout",
          "text": [
            "1275\n"
          ]
        }
      ],
      "source": [
        "def sum_of_natural(n):\n",
        "  sum = 0\n",
        "  for i in range(1, n+1):\n",
        "    sum = sum + i\n",
        "  return sum\n",
        "\n",
        "print(sum_of_natural(50))"
      ]
    },
    {
      "cell_type": "markdown",
      "metadata": {
        "id": "_b0qTse-wZA0"
      },
      "source": [
        "**Question 17:** Write a Python program to check if a year is a leap year."
      ]
    },
    {
      "cell_type": "code",
      "execution_count": 34,
      "metadata": {
        "id": "5Rblyz9DwZA0",
        "colab": {
          "base_uri": "https://localhost:8080/"
        },
        "outputId": "c1a17dd1-f3c2-4301-f642-42830ed20b02"
      },
      "outputs": [
        {
          "output_type": "stream",
          "name": "stdout",
          "text": [
            "Enter the year 2014\n",
            "The year is not a leap year\n"
          ]
        }
      ],
      "source": [
        "year = int(input('Enter the year '))\n",
        "if (year % 4 == 0 and year % 100 != 0) or (year % 400 == 0):\n",
        "    print('The year is a leap year')\n",
        "else:\n",
        "    print('The year is not a leap year')\n"
      ]
    },
    {
      "cell_type": "markdown",
      "metadata": {
        "id": "NOrOq07fwZA0"
      },
      "source": [
        "**Question 18:** Write a Python program to reverse a string."
      ]
    },
    {
      "cell_type": "code",
      "execution_count": 36,
      "metadata": {
        "id": "nZ76uoGpwZA1",
        "colab": {
          "base_uri": "https://localhost:8080/"
        },
        "outputId": "7ca53144-c270-4f6f-8a02-112f5560678f"
      },
      "outputs": [
        {
          "output_type": "stream",
          "name": "stdout",
          "text": [
            "Enter a string Nabin\n",
            "The reversed string is nibaN\n"
          ]
        }
      ],
      "source": [
        "str = input('Enter a string ')\n",
        "rev_str = str[::-1]\n",
        "print(f'The reversed string is {rev_str}')\n"
      ]
    },
    {
      "cell_type": "markdown",
      "metadata": {
        "id": "7OdkYf48wZA1"
      },
      "source": [
        "**Question 19:** Write a Python program to check if a string is a palindrome."
      ]
    },
    {
      "cell_type": "code",
      "execution_count": 37,
      "metadata": {
        "id": "u5tYAOjEwZA1",
        "colab": {
          "base_uri": "https://localhost:8080/"
        },
        "outputId": "d26e6754-c5ce-469b-83c3-ea7488f3099d"
      },
      "outputs": [
        {
          "output_type": "stream",
          "name": "stdout",
          "text": [
            "Enter a string: coc\n",
            "The string is a palindrome\n"
          ]
        }
      ],
      "source": [
        "string = input('Enter a string: ').lower()\n",
        "if string == string[::-1]:\n",
        "    print('The string is a palindrome')\n",
        "else:\n",
        "    print('The string is not a palindrome')\n"
      ]
    },
    {
      "cell_type": "markdown",
      "metadata": {
        "id": "uEGgIU1swZBA"
      },
      "source": [
        "**Question 20:** Write a Python program to sort a list of numbers in ascending order."
      ]
    },
    {
      "cell_type": "code",
      "execution_count": 39,
      "metadata": {
        "id": "qkcw-s34wZBA",
        "colab": {
          "base_uri": "https://localhost:8080/"
        },
        "outputId": "fda22b93-ce67-45ed-c0ad-544d22e79f9e"
      },
      "outputs": [
        {
          "output_type": "stream",
          "name": "stdout",
          "text": [
            "[1, 2, 3, 4, 5]\n"
          ]
        }
      ],
      "source": [
        "l = [4, 5, 2, 1, 3]\n",
        "print(sorted(l))"
      ]
    }
  ],
  "metadata": {
    "kernelspec": {
      "display_name": "Python 3",
      "language": "python",
      "name": "python3"
    },
    "language_info": {
      "codemirror_mode": {
        "name": "ipython",
        "version": 3
      },
      "file_extension": ".py",
      "mimetype": "text/x-python",
      "name": "python",
      "nbconvert_exporter": "python",
      "pygments_lexer": "ipython3",
      "version": "3.12.0"
    },
    "colab": {
      "provenance": []
    }
  },
  "nbformat": 4,
  "nbformat_minor": 0
}