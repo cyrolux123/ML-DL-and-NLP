{
  "cells": [
    {
      "cell_type": "markdown",
      "metadata": {
        "id": "qhMTSivclCIO"
      },
      "source": [
        "# Module 2: Control Flow Assignments\n",
        "## Lesson 2.1: Conditional Statements"
      ],
      "id": "qhMTSivclCIO"
    },
    {
      "cell_type": "markdown",
      "source": [
        "### Assignment 1: Simple if Statement\n",
        "\n",
        "Write a program that asks the user to input a number and prints whether the number is positive."
      ],
      "metadata": {
        "id": "_qmoROxGlL46"
      },
      "id": "_qmoROxGlL46"
    },
    {
      "cell_type": "code",
      "execution_count": 5,
      "metadata": {
        "colab": {
          "base_uri": "https://localhost:8080/"
        },
        "id": "YXB9gxv4lCIR",
        "outputId": "13bbfba7-a6a1-4693-a82c-23aec70aa0ba"
      },
      "outputs": [
        {
          "output_type": "stream",
          "name": "stdout",
          "text": [
            "Enter the number 4\n",
            "The number is positive\n"
          ]
        }
      ],
      "source": [
        "number = int(input('Enter the number '))\n",
        "if number > 0:\n",
        "  print('The number is positive')"
      ],
      "id": "YXB9gxv4lCIR"
    },
    {
      "cell_type": "markdown",
      "source": [
        "### Assignment 2: if-else Statement\n",
        "\n",
        "Write a program that asks the user to input a number and prints whether the number is positive or negative."
      ],
      "metadata": {
        "id": "ExAiBhayldGY"
      },
      "id": "ExAiBhayldGY"
    },
    {
      "cell_type": "code",
      "source": [
        "number = int(input('Enter the number '))\n",
        "if number > 0:\n",
        "  print('The number is positive')\n",
        "elif number < 0:\n",
        "  print('The number is negative')\n",
        "else:\n",
        "  print('The number is neither positive nor negative')"
      ],
      "metadata": {
        "colab": {
          "base_uri": "https://localhost:8080/"
        },
        "id": "ztiP1h3ulWOL",
        "outputId": "03616154-4c65-4a50-9774-cdc73c4d659c"
      },
      "id": "ztiP1h3ulWOL",
      "execution_count": 6,
      "outputs": [
        {
          "output_type": "stream",
          "name": "stdout",
          "text": [
            "Enter the number 3\n",
            "The number is positive\n"
          ]
        }
      ]
    },
    {
      "cell_type": "markdown",
      "source": [
        "### Assignment 3: if-elif-else Statement\n",
        "\n",
        "Write a program that asks the user to input a number and prints whether the number is positive, negative, or zero."
      ],
      "metadata": {
        "id": "4SlYE-EJltge"
      },
      "id": "4SlYE-EJltge"
    },
    {
      "cell_type": "code",
      "source": [
        "number = int(input('Enter the number '))\n",
        "if number > 0:\n",
        "  print('The number is positive')\n",
        "elif number < 0:\n",
        "  print('The number is negative')\n",
        "else:\n",
        "  print('The number is zero')"
      ],
      "metadata": {
        "colab": {
          "base_uri": "https://localhost:8080/"
        },
        "id": "fbUSuMaelobi",
        "outputId": "17f21e9a-db56-43d3-e0c9-6a1e710e6fb3"
      },
      "id": "fbUSuMaelobi",
      "execution_count": 7,
      "outputs": [
        {
          "output_type": "stream",
          "name": "stdout",
          "text": [
            "Enter the number 2\n",
            "The number is positive\n"
          ]
        }
      ]
    },
    {
      "cell_type": "markdown",
      "source": [
        "\n",
        "### Assignment 4: Nested if Statement\n",
        "\n",
        "Write a program that asks the user to input a number and prints whether the number is positive and even, positive and odd, or negative."
      ],
      "metadata": {
        "id": "V5WbeCjhmAmr"
      },
      "id": "V5WbeCjhmAmr"
    },
    {
      "cell_type": "code",
      "source": [
        "number = int(input('Enter the number '))\n",
        "if number > 0:\n",
        "  print('The number is positive')\n",
        "  if number % 2 == 0:\n",
        "    print('The number is even')\n",
        "  else:\n",
        "    print('The number is odd')\n",
        "elif number < 0:\n",
        "  print('The number is negative')"
      ],
      "metadata": {
        "colab": {
          "base_uri": "https://localhost:8080/"
        },
        "id": "-VVGWo-Cl8g9",
        "outputId": "a5a6a228-3825-4123-ca09-b0ec90b8a38f"
      },
      "id": "-VVGWo-Cl8g9",
      "execution_count": 8,
      "outputs": [
        {
          "output_type": "stream",
          "name": "stdout",
          "text": [
            "Enter the number 55\n",
            "The number is positive\n",
            "The number is odd\n"
          ]
        }
      ]
    },
    {
      "cell_type": "markdown",
      "source": [
        "\n",
        "## Lesson 2.2: Loops\n",
        "### Assignment 5: for Loop\n",
        "\n",
        "Write a program that prints all the numbers from 1 to 10 using a for loop."
      ],
      "metadata": {
        "id": "XdF8OK7MmeYY"
      },
      "id": "XdF8OK7MmeYY"
    },
    {
      "cell_type": "code",
      "source": [
        "for i in range(1,11):\n",
        "  print(i)"
      ],
      "metadata": {
        "colab": {
          "base_uri": "https://localhost:8080/"
        },
        "id": "2WxGSC02mXHH",
        "outputId": "471db69b-91b3-4729-e555-32ed21884780"
      },
      "id": "2WxGSC02mXHH",
      "execution_count": 9,
      "outputs": [
        {
          "output_type": "stream",
          "name": "stdout",
          "text": [
            "1\n",
            "2\n",
            "3\n",
            "4\n",
            "5\n",
            "6\n",
            "7\n",
            "8\n",
            "9\n",
            "10\n"
          ]
        }
      ]
    },
    {
      "cell_type": "markdown",
      "source": [
        "### Assignment 6: while Loop\n",
        "\n",
        "Write a program that prints all the numbers from 1 to 10 using a while loop."
      ],
      "metadata": {
        "id": "0tTiExhummjC"
      },
      "id": "0tTiExhummjC"
    },
    {
      "cell_type": "code",
      "source": [
        "start = 1\n",
        "while(start < 11):\n",
        "  print(start)\n",
        "  start = start + 1"
      ],
      "metadata": {
        "colab": {
          "base_uri": "https://localhost:8080/"
        },
        "id": "n3pf56cImiYQ",
        "outputId": "dec9a7a3-b802-4138-a1e5-cca527287f67"
      },
      "id": "n3pf56cImiYQ",
      "execution_count": 10,
      "outputs": [
        {
          "output_type": "stream",
          "name": "stdout",
          "text": [
            "1\n",
            "2\n",
            "3\n",
            "4\n",
            "5\n",
            "6\n",
            "7\n",
            "8\n",
            "9\n",
            "10\n"
          ]
        }
      ]
    },
    {
      "cell_type": "markdown",
      "source": [
        "### Assignment 7: Nested Loops\n",
        "\n",
        "Write a program that prints a 5x5 grid of asterisks (*) using nested loops."
      ],
      "metadata": {
        "id": "-7_z3s4smzg1"
      },
      "id": "-7_z3s4smzg1"
    },
    {
      "cell_type": "code",
      "source": [
        "for i in range(5):\n",
        "    for j in range(5):\n",
        "        print('*', end=' ')\n",
        "    print()"
      ],
      "metadata": {
        "colab": {
          "base_uri": "https://localhost:8080/"
        },
        "id": "IsqeE_eWmu-L",
        "outputId": "b5b2b5b3-be49-459b-e273-e3fd0d2884f0"
      },
      "id": "IsqeE_eWmu-L",
      "execution_count": 11,
      "outputs": [
        {
          "output_type": "stream",
          "name": "stdout",
          "text": [
            "* * * * * \n",
            "* * * * * \n",
            "* * * * * \n",
            "* * * * * \n",
            "* * * * * \n"
          ]
        }
      ]
    },
    {
      "cell_type": "markdown",
      "source": [
        "### Assignment 8: break Statement\n",
        "\n",
        "Write a program that asks the user to input numbers until they input 0. The program should print the sum of all the input numbers.\n"
      ],
      "metadata": {
        "id": "UW3JsMmDnf4m"
      },
      "id": "UW3JsMmDnf4m"
    },
    {
      "cell_type": "code",
      "source": [
        "sum = 0\n",
        "while(True):\n",
        "  number = int(input('Enter the number '))\n",
        "  if number == 0:\n",
        "    break\n",
        "  sum = sum + number\n",
        "print(f\"The total sum is {sum}\")"
      ],
      "metadata": {
        "colab": {
          "base_uri": "https://localhost:8080/"
        },
        "id": "SL75jT6Qm7rK",
        "outputId": "a11a9e22-939c-4d73-f4f0-00aca562607b"
      },
      "id": "SL75jT6Qm7rK",
      "execution_count": 13,
      "outputs": [
        {
          "output_type": "stream",
          "name": "stdout",
          "text": [
            "Enter the number 5\n",
            "Enter the number 3\n",
            "Enter the number 1\n",
            "Enter the number 0\n",
            "The total sum is 9\n"
          ]
        }
      ]
    },
    {
      "cell_type": "markdown",
      "source": [
        "\n",
        "### Assignment 9: continue Statement\n",
        "\n",
        "Write a program that prints all the numbers from 1 to 10 except 5 using a for loop and continue statement."
      ],
      "metadata": {
        "id": "QmOw9MBaShlD"
      },
      "id": "QmOw9MBaShlD"
    },
    {
      "cell_type": "code",
      "source": [
        "for i in range(1,11):\n",
        "  if i ==5:\n",
        "    continue\n",
        "  print(i)"
      ],
      "metadata": {
        "id": "5TBDuHyRn9sz",
        "colab": {
          "base_uri": "https://localhost:8080/"
        },
        "outputId": "35163278-2128-4eb4-fac3-a67600cd0927"
      },
      "id": "5TBDuHyRn9sz",
      "execution_count": 14,
      "outputs": [
        {
          "output_type": "stream",
          "name": "stdout",
          "text": [
            "1\n",
            "2\n",
            "3\n",
            "4\n",
            "6\n",
            "7\n",
            "8\n",
            "9\n",
            "10\n"
          ]
        }
      ]
    },
    {
      "cell_type": "markdown",
      "source": [
        "### Assignment 10: pass Statement\n",
        "\n",
        "Write a program that defines an empty function using the pass statement."
      ],
      "metadata": {
        "id": "v3PJlBdXTJ0S"
      },
      "id": "v3PJlBdXTJ0S"
    },
    {
      "cell_type": "code",
      "source": [
        "def empty():\n",
        "  pass"
      ],
      "metadata": {
        "id": "ZabpSl5KSunp"
      },
      "id": "ZabpSl5KSunp",
      "execution_count": 15,
      "outputs": []
    },
    {
      "cell_type": "markdown",
      "source": [
        "### Assignment 11: Combining Loops and Conditionals\n",
        "\n",
        "Write a program that asks the user to input a number and prints all the even numbers from 1 to that number using a for loop."
      ],
      "metadata": {
        "id": "Ye-ZRFHqTR3y"
      },
      "id": "Ye-ZRFHqTR3y"
    },
    {
      "cell_type": "code",
      "source": [
        "number = int(input('Enter the number: '))\n",
        "for i in range(1,number + 1):\n",
        "  if i % 2 ==0:\n",
        "    print(i)"
      ],
      "metadata": {
        "colab": {
          "base_uri": "https://localhost:8080/"
        },
        "id": "I0QwXDPcTOjg",
        "outputId": "a6ed863f-2793-43b4-fac4-73a4a5871993"
      },
      "id": "I0QwXDPcTOjg",
      "execution_count": 17,
      "outputs": [
        {
          "output_type": "stream",
          "name": "stdout",
          "text": [
            "Enter the number: 20\n",
            "2\n",
            "4\n",
            "6\n",
            "8\n",
            "10\n",
            "12\n",
            "14\n",
            "16\n",
            "18\n",
            "20\n"
          ]
        }
      ]
    },
    {
      "cell_type": "markdown",
      "source": [
        "### Assignment 12: Factorial Calculation\n",
        "\n",
        "Write a program that calculates the factorial of a number input by the user using a while loop."
      ],
      "metadata": {
        "id": "Kfn9jn8ZTrDl"
      },
      "id": "Kfn9jn8ZTrDl"
    },
    {
      "cell_type": "code",
      "source": [
        "number = int(input('Enter the number: '))\n",
        "fact = 1\n",
        "while(number > 0):\n",
        "  fact = fact * number\n",
        "  number -= 1\n",
        "print(fact)"
      ],
      "metadata": {
        "colab": {
          "base_uri": "https://localhost:8080/"
        },
        "id": "KjjTwZxmTjcj",
        "outputId": "7322dd74-0ba1-493f-a7a9-833b83717f70"
      },
      "id": "KjjTwZxmTjcj",
      "execution_count": 19,
      "outputs": [
        {
          "output_type": "stream",
          "name": "stdout",
          "text": [
            "Enter the number: 5\n",
            "120\n"
          ]
        }
      ]
    },
    {
      "cell_type": "markdown",
      "source": [
        "### Assignment 13: Sum of Digits\n",
        "\n",
        "Write a program that calculates the sum of the digits of a number input by the user using a while loop."
      ],
      "metadata": {
        "id": "8dTFpOCmUOKI"
      },
      "id": "8dTFpOCmUOKI"
    },
    {
      "cell_type": "code",
      "source": [
        "number = int(input('Enter the number: '))\n",
        "sum_of_digits = 0\n",
        "\n",
        "while number > 0:\n",
        "    digit = number % 10\n",
        "    sum_of_digits += digit\n",
        "    number = number // 10\n",
        "\n",
        "print('Sum of digits:', sum_of_digits)"
      ],
      "metadata": {
        "colab": {
          "base_uri": "https://localhost:8080/"
        },
        "id": "XFqrZBYuT9Lc",
        "outputId": "9eba4f01-739f-4634-fa17-c46b063f0d6a"
      },
      "id": "XFqrZBYuT9Lc",
      "execution_count": 23,
      "outputs": [
        {
          "output_type": "stream",
          "name": "stdout",
          "text": [
            "Enter the number: 345\n",
            "Sum of digits: 12\n"
          ]
        }
      ]
    },
    {
      "cell_type": "markdown",
      "source": [
        "### Assignment 14: Prime Number Check\n",
        "\n",
        "Write a program that checks if a number input by the user is a prime number using a for loop."
      ],
      "metadata": {
        "id": "xLKK0gTwVJZD"
      },
      "id": "xLKK0gTwVJZD"
    },
    {
      "cell_type": "code",
      "source": [
        "number = int(input('Enter the number: '))\n",
        "\n",
        "if number > 1:\n",
        "    for i in range(2, number):\n",
        "        if number % i == 0:\n",
        "            print(f'{number} is not a prime number')\n",
        "            break\n",
        "    else:\n",
        "        print(f'{number} is a prime number')\n",
        "else:\n",
        "    print(f'{number} is not a prime number')"
      ],
      "metadata": {
        "colab": {
          "base_uri": "https://localhost:8080/"
        },
        "id": "5incDAIPUp2P",
        "outputId": "fb930b12-76cb-4e9a-8d40-da6c0e2bd1e7"
      },
      "id": "5incDAIPUp2P",
      "execution_count": 24,
      "outputs": [
        {
          "output_type": "stream",
          "name": "stdout",
          "text": [
            "Enter the number: 31\n",
            "31 is a prime number\n"
          ]
        }
      ]
    },
    {
      "cell_type": "markdown",
      "source": [
        "### Assignment 15: Fibonacci Sequence\n",
        "\n",
        "Write a program that prints the first n Fibonacci numbers, where n is input by the user."
      ],
      "metadata": {
        "id": "l00D-B2pV067"
      },
      "id": "l00D-B2pV067"
    },
    {
      "cell_type": "code",
      "source": [
        "n = int(input('Enter the element: '))\n",
        "a,b = 0,1\n",
        "counter = 0\n",
        "while counter < n:\n",
        "    print(a)\n",
        "    c = a + b\n",
        "    a = b\n",
        "    b = c\n",
        "    counter = counter + 1"
      ],
      "metadata": {
        "colab": {
          "base_uri": "https://localhost:8080/"
        },
        "id": "v4W6EfqKVoAs",
        "outputId": "9f94de00-476d-405a-8af7-e3fce0c3228a"
      },
      "id": "v4W6EfqKVoAs",
      "execution_count": 26,
      "outputs": [
        {
          "output_type": "stream",
          "name": "stdout",
          "text": [
            "Enter the element: 6\n",
            "0\n",
            "1\n",
            "1\n",
            "2\n",
            "3\n",
            "5\n"
          ]
        }
      ]
    }
  ],
  "metadata": {
    "kernelspec": {
      "display_name": "Python 3",
      "language": "python",
      "name": "python3"
    },
    "language_info": {
      "codemirror_mode": {
        "name": "ipython",
        "version": 3
      },
      "file_extension": ".py",
      "mimetype": "text/x-python",
      "name": "python",
      "nbconvert_exporter": "python",
      "pygments_lexer": "ipython3",
      "version": "3.9.7"
    },
    "colab": {
      "provenance": []
    }
  },
  "nbformat": 4,
  "nbformat_minor": 5
}