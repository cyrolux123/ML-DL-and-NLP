{
 "cells": [
  {
   "cell_type": "markdown",
   "metadata": {},
   "source": [
    "Real World Examples of List"
   ]
  },
  {
   "cell_type": "markdown",
   "metadata": {},
   "source": [
    "- Create a To Do List to keep track of Tasks"
   ]
  },
  {
   "cell_type": "code",
   "execution_count": 1,
   "metadata": {},
   "outputs": [
    {
     "name": "stdout",
     "output_type": "stream",
     "text": [
      "Don't forget to buy groceries\n",
      "To do list remaining:\n",
      "Go for a walk\n",
      "Clean House\n",
      "Pay Bills\n",
      "Go to the gym\n"
     ]
    }
   ],
   "source": [
    "to_do_list = [\"Buy Groceries\", \"Clean House\", \"Pay Bills\"]\n",
    "\n",
    "# Adding to task\n",
    "to_do_list.append(\"Go to the gym\")\n",
    "to_do_list.insert(1, \"Go for a walk\")\n",
    "\n",
    "# Removing completed task\n",
    "to_do_list.remove(\"Buy Groceries\")\n",
    "\n",
    "# Checking if a task is in the list\n",
    "if \"Buy Groceries\" not in to_do_list:\n",
    "    print(\"Don't forget to buy groceries\")\n",
    "\n",
    "print(\"To do list remaining:\")\n",
    "for task in to_do_list:\n",
    "    print(task)"
   ]
  },
  {
   "cell_type": "markdown",
   "metadata": {},
   "source": [
    "- Organizing Student grades"
   ]
  },
  {
   "cell_type": "code",
   "execution_count": 2,
   "metadata": {},
   "outputs": [
    {
     "name": "stdout",
     "output_type": "stream",
     "text": [
      "Average grade: 88.33\n",
      "Highest grade: 100\n",
      "Lowest grade: 75\n"
     ]
    }
   ],
   "source": [
    "grades = [90, 88, 75, 92, 85]\n",
    "\n",
    "# Adding a new grade\n",
    "grades.append(100)\n",
    "\n",
    "# Calculating the average grade\n",
    "average = sum(grades) / len(grades)\n",
    "print(f\"Average grade: {average:.2f}\")\n",
    "\n",
    "# Finding the highest grade and lowest grade\n",
    "highest = max(grades)\n",
    "lowest = min(grades)\n",
    "print(f\"Highest grade: {highest}\")\n",
    "print(f\"Lowest grade: {lowest}\")"
   ]
  },
  {
   "cell_type": "code",
   "execution_count": null,
   "metadata": {},
   "outputs": [],
   "source": []
  }
 ],
 "metadata": {
  "kernelspec": {
   "display_name": "Python 3",
   "language": "python",
   "name": "python3"
  },
  "language_info": {
   "codemirror_mode": {
    "name": "ipython",
    "version": 3
   },
   "file_extension": ".py",
   "mimetype": "text/x-python",
   "name": "python",
   "nbconvert_exporter": "python",
   "pygments_lexer": "ipython3",
   "version": "3.12.0"
  }
 },
 "nbformat": 4,
 "nbformat_minor": 2
}
