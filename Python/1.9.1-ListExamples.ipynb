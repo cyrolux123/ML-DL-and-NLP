{
 "cells": [
  {
   "cell_type": "markdown",
   "metadata": {},
   "source": [
    "Real World Examples of List"
   ]
  },
  {
   "cell_type": "markdown",
   "metadata": {},
   "source": [
    "- Create a To Do List to keep track of Tasks"
   ]
  },
  {
   "cell_type": "code",
   "execution_count": 1,
   "metadata": {},
   "outputs": [
    {
     "name": "stdout",
     "output_type": "stream",
     "text": [
      "Don't forget to buy groceries\n",
      "To do list remaining:\n",
      "Go for a walk\n",
      "Clean House\n",
      "Pay Bills\n",
      "Go to the gym\n"
     ]
    }
   ],
   "source": [
    "to_do_list = [\"Buy Groceries\", \"Clean House\", \"Pay Bills\"]\n",
    "\n",
    "# Adding to task\n",
    "to_do_list.append(\"Go to the gym\")\n",
    "to_do_list.insert(1, \"Go for a walk\")\n",
    "\n",
    "# Removing completed task\n",
    "to_do_list.remove(\"Buy Groceries\")\n",
    "\n",
    "# Checking if a task is in the list\n",
    "if \"Buy Groceries\" not in to_do_list:\n",
    "    print(\"Don't forget to buy groceries\")\n",
    "\n",
    "print(\"To do list remaining:\")\n",
    "for task in to_do_list:\n",
    "    print(task)"
   ]
  },
  {
   "cell_type": "markdown",
   "metadata": {},
   "source": [
    "- Organizing Student grades"
   ]
  },
  {
   "cell_type": "code",
   "execution_count": 2,
   "metadata": {},
   "outputs": [
    {
     "name": "stdout",
     "output_type": "stream",
     "text": [
      "Average grade: 88.33\n",
      "Highest grade: 100\n",
      "Lowest grade: 75\n"
     ]
    }
   ],
   "source": [
    "grades = [90, 88, 75, 92, 85]\n",
    "\n",
    "# Adding a new grade\n",
    "grades.append(100)\n",
    "\n",
    "# Calculating the average grade\n",
    "average = sum(grades) / len(grades)\n",
    "print(f\"Average grade: {average:.2f}\")\n",
    "\n",
    "# Finding the highest grade and lowest grade\n",
    "highest = max(grades)\n",
    "lowest = min(grades)\n",
    "print(f\"Highest grade: {highest}\")\n",
    "print(f\"Lowest grade: {lowest}\")"
   ]
  },
  {
   "cell_type": "markdown",
   "metadata": {},
   "source": [
    "- Managing an Inventory"
   ]
  },
  {
   "cell_type": "code",
   "execution_count": 5,
   "metadata": {},
   "outputs": [
    {
     "name": "stdout",
     "output_type": "stream",
     "text": [
      "Oranges are out of stock\n",
      "Inventory:\n",
      " - Apples\n",
      " - Bananas\n",
      " - Peaches\n",
      " - Grapes\n",
      " - Pineapples\n"
     ]
    }
   ],
   "source": [
    "# Managing an inventory\n",
    "inventory = [\"Apples\", \"Bananas\", \"Oranges\", \"Peaches\", \"Grapes\"]\n",
    "\n",
    "# Adding a new item\n",
    "inventory.append(\"Pineapples\")\n",
    "\n",
    "# Removing an item that is out of stock\n",
    "inventory.remove(\"Oranges\")\n",
    "\n",
    "# Checking if an item is in stock\n",
    "if \"Oranges\" in inventory:\n",
    "    print(\"Oranges are in stock\")\n",
    "else:\n",
    "    print(\"Oranges are out of stock\")\n",
    "\n",
    "# Printing the inventory\n",
    "print(\"Inventory:\")\n",
    "for item in inventory:\n",
    "    print(f\" - {item}\")\n",
    "\n"
   ]
  },
  {
   "cell_type": "markdown",
   "metadata": {},
   "source": [
    "- Collecting user feedback"
   ]
  },
  {
   "cell_type": "code",
   "execution_count": 8,
   "metadata": {},
   "outputs": [
    {
     "name": "stdout",
     "output_type": "stream",
     "text": [
      "Positive feedback count: 3\n",
      "Feedback:\n",
      " - Great job!\n",
      " - You're not doing well\n",
      " - Keep up the amazing work\n",
      " - You can do better\n",
      " - You're amazing!\n"
     ]
    }
   ],
   "source": [
    "# Collecting user feedback\n",
    "feedback = [\"Great job!\", \"You're not doing well\", \"Keep up the amazing work\", \"You can do better\"]\n",
    "\n",
    "# Adding a new feedback\n",
    "feedback.append(\"You're amazing!\")\n",
    "\n",
    "# Counting specific feedback\n",
    "positive_feedback_count = sum (1 for f in feedback if \"great\" in f.lower() or \"amazing\" in f.lower())\n",
    "print(f\"Positive feedback count: {positive_feedback_count}\")\n",
    "\n",
    "# Printing the feedback\n",
    "print(\"Feedback:\")\n",
    "for f in feedback:\n",
    "    print(f\" - {f}\")"
   ]
  }
 ],
 "metadata": {
  "kernelspec": {
   "display_name": "Python 3",
   "language": "python",
   "name": "python3"
  },
  "language_info": {
   "codemirror_mode": {
    "name": "ipython",
    "version": 3
   },
   "file_extension": ".py",
   "mimetype": "text/x-python",
   "name": "python",
   "nbconvert_exporter": "python",
   "pygments_lexer": "ipython3",
   "version": "3.12.0"
  }
 },
 "nbformat": 4,
 "nbformat_minor": 2
}
