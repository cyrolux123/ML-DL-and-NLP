{
 "cells": [
  {
   "cell_type": "markdown",
   "metadata": {},
   "source": [
    "Temperature Conversion"
   ]
  },
  {
   "cell_type": "code",
   "execution_count": 3,
   "metadata": {},
   "outputs": [
    {
     "name": "stdout",
     "output_type": "stream",
     "text": [
      "98.6\n",
      "37.0\n"
     ]
    }
   ],
   "source": [
    "def convert_temperature(temp, unit):\n",
    "    \"\"\"This function converts the temperature from Celsius to Fahrenheit or vice versa\"\"\"\n",
    "    if unit == \"F\":\n",
    "        return (temp - 32) * 5/9 # Convert Fahrenheit to Celsius\n",
    "    elif unit == \"C\":\n",
    "        return (temp * 9/5) + 32 # Convert Celsius to Fahrenheit\n",
    "    else:\n",
    "        return \"Invalid unit. Please enter either 'C' or 'F'.\"\n",
    "\n",
    "print(convert_temperature(37, \"C\"))\n",
    "print(convert_temperature(98.6, \"F\"))"
   ]
  },
  {
   "cell_type": "markdown",
   "metadata": {},
   "source": [
    "Password Strength Checker"
   ]
  },
  {
   "cell_type": "code",
   "execution_count": null,
   "metadata": {},
   "outputs": [],
   "source": []
  }
 ],
 "metadata": {
  "kernelspec": {
   "display_name": "Python 3",
   "language": "python",
   "name": "python3"
  },
  "language_info": {
   "codemirror_mode": {
    "name": "ipython",
    "version": 3
   },
   "file_extension": ".py",
   "mimetype": "text/x-python",
   "name": "python",
   "nbconvert_exporter": "python",
   "pygments_lexer": "ipython3",
   "version": "3.12.0"
  }
 },
 "nbformat": 4,
 "nbformat_minor": 2
}
