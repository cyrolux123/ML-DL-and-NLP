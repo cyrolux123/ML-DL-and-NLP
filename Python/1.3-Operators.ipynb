{
 "cells": [
  {
   "cell_type": "code",
   "execution_count": 3,
   "metadata": {},
   "outputs": [
    {
     "name": "stdout",
     "output_type": "stream",
     "text": [
      "Addition Result:  9\n",
      "Subtraction Result:  3\n",
      "Multiplication Result:  18\n",
      "Division Result:  2.0\n",
      "Modulus Result:  0\n",
      "Exponential Result:  216\n",
      "Floor Division Result:  2\n"
     ]
    }
   ],
   "source": [
    "## Arithmetic Operators\n",
    "# +, -, *, /, %, **, //\n",
    "\n",
    "a = 6\n",
    "b = 3\n",
    "add_result = a + b\n",
    "sub_result = a - b\n",
    "mul_result = a * b\n",
    "div_result = a / b\n",
    "mod_result = a % b\n",
    "exp_result = a ** b\n",
    "floor_div_result = a // b\n",
    "\n",
    "print(\"Addition Result: \", add_result)\n",
    "print(\"Subtraction Result: \", sub_result)\n",
    "print(\"Multiplication Result: \", mul_result)\n",
    "print(\"Division Result: \", div_result)\n",
    "print(\"Modulus Result: \", mod_result)\n",
    "print(\"Exponential Result: \", exp_result)\n",
    "print(\"Floor Division Result: \", floor_div_result)"
   ]
  },
  {
   "cell_type": "code",
   "execution_count": 6,
   "metadata": {},
   "outputs": [
    {
     "data": {
      "text/plain": [
       "2.4"
      ]
     },
     "execution_count": 6,
     "metadata": {},
     "output_type": "execute_result"
    }
   ],
   "source": [
    "12 / 5"
   ]
  },
  {
   "cell_type": "code",
   "execution_count": 7,
   "metadata": {},
   "outputs": [
    {
     "data": {
      "text/plain": [
       "2"
      ]
     },
     "execution_count": 7,
     "metadata": {},
     "output_type": "execute_result"
    }
   ],
   "source": [
    "12 // 5"
   ]
  },
  {
   "cell_type": "code",
   "execution_count": 8,
   "metadata": {},
   "outputs": [
    {
     "name": "stdout",
     "output_type": "stream",
     "text": [
      "a == b:  False\n",
      "a != b:  True\n",
      "a > b:  True\n",
      "a < b:  False\n",
      "a >= b:  True\n",
      "a <= b:  False\n"
     ]
    }
   ],
   "source": [
    "## Comparison Operators\n",
    "# ==, !=, >, <, >=, <=\n",
    "\n",
    "a = 6\n",
    "b = 3\n",
    "\n",
    "print(\"a == b: \", a == b)\n",
    "print(\"a != b: \", a != b)\n",
    "print(\"a > b: \", a > b)\n",
    "print(\"a < b: \", a < b)\n",
    "print(\"a >= b: \", a >= b)\n",
    "print(\"a <= b: \", a <= b)"
   ]
  },
  {
   "cell_type": "code",
   "execution_count": 9,
   "metadata": {},
   "outputs": [
    {
     "name": "stdout",
     "output_type": "stream",
     "text": [
      "a and b:  False\n",
      "a or b:  True\n",
      "not a:  False\n"
     ]
    }
   ],
   "source": [
    "## Logical Operators\n",
    "\n",
    "# and, or, not\n",
    "\n",
    "a = True\n",
    "b = False\n",
    "\n",
    "print(\"a and b: \", a and b)\n",
    "print(\"a or b: \", a or b)\n",
    "print(\"not a: \", not a)"
   ]
  },
  {
   "cell_type": "code",
   "execution_count": 10,
   "metadata": {},
   "outputs": [
    {
     "name": "stdout",
     "output_type": "stream",
     "text": [
      "Addition Result:  9.0\n",
      "Subtraction Result:  -1.0\n",
      "Multiplication Result:  20.0\n",
      "Division Result:  0.8\n",
      "Modulus Result:  4.0\n",
      "Exponential Result:  1024.0\n",
      "Floor Division Result:  0.0\n"
     ]
    }
   ],
   "source": [
    "## Simple Calculator using arithmetic operators\n",
    "\n",
    "num1 = float(input(\"Enter first number: \"))\n",
    "num2 = float(input(\"Enter second number: \"))\n",
    "\n",
    "# Perform arithmetic operations\n",
    "add_result = num1 + num2\n",
    "sub_result = num1 - num2\n",
    "mul_result = num1 * num2\n",
    "div_result = num1 / num2\n",
    "mod_result = num1 % num2\n",
    "exp_result = num1 ** num2\n",
    "floor_div_result = num1 // num2\n",
    "\n",
    "# Display the results\n",
    "print(\"Addition Result: \", add_result)\n",
    "print(\"Subtraction Result: \", sub_result)\n",
    "print(\"Multiplication Result: \", mul_result)\n",
    "print(\"Division Result: \", div_result)\n",
    "print(\"Modulus Result: \", mod_result)\n",
    "print(\"Exponential Result: \", exp_result)\n",
    "print(\"Floor Division Result: \", floor_div_result)"
   ]
  }
 ],
 "metadata": {
  "kernelspec": {
   "display_name": "Python 3",
   "language": "python",
   "name": "python3"
  },
  "language_info": {
   "codemirror_mode": {
    "name": "ipython",
    "version": 3
   },
   "file_extension": ".py",
   "mimetype": "text/x-python",
   "name": "python",
   "nbconvert_exporter": "python",
   "pygments_lexer": "ipython3",
   "version": "3.12.0"
  }
 },
 "nbformat": 4,
 "nbformat_minor": 2
}
